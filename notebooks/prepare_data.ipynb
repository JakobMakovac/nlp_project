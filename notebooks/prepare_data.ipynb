{
 "cells": [
  {
   "cell_type": "code",
   "execution_count": 1,
   "metadata": {},
   "outputs": [],
   "source": [
    "from lxml import etree\n",
    "import pycrfsuite\n",
    "import csv"
   ]
  },
  {
   "cell_type": "code",
   "execution_count": 2,
   "metadata": {},
   "outputs": [],
   "source": [
    "data_file = 'data/ssj500k-sl.TEI/ssj500k-sl.body.xml'\n",
    "data_split = 0.8"
   ]
  },
  {
   "cell_type": "markdown",
   "metadata": {},
   "source": [
    "#### Classes representing sentences and words within sentences"
   ]
  },
  {
   "cell_type": "code",
   "execution_count": 3,
   "metadata": {},
   "outputs": [],
   "source": [
    "class Sentence():\n",
    "    def __init__(self, sentence):\n",
    "        self.words = []\n",
    "        for part in sentence.getchildren():\n",
    "            if part.tag == '{http://www.tei-c.org/ns/1.0}seg':\n",
    "                named_entity = part.get('subtype')\n",
    "                for ne in part.getchildren():\n",
    "                    self.words.append(Word(ne, named_entity))\n",
    "            elif part.tag == '{http://www.tei-c.org/ns/1.0}w':\n",
    "                self.words.append(Word(part))\n",
    "        \n",
    "class Word():\n",
    "    def __init__(self, word, ne=None):\n",
    "        self.properties = {}\n",
    "        for prop in word.keys():\n",
    "            self.properties[prop] = word.get(prop)\n",
    "        if ne == None:\n",
    "            self.properties['named_entity'] = 'none'\n",
    "        else:\n",
    "            self.properties['named_entity'] = ne\n",
    "        self.properties['text'] = word.text"
   ]
  },
  {
   "cell_type": "markdown",
   "metadata": {},
   "source": [
    "#### We use lxml to parse input data and save it into our classes"
   ]
  },
  {
   "cell_type": "code",
   "execution_count": 4,
   "metadata": {},
   "outputs": [],
   "source": [
    "sentences = []\n",
    "\n",
    "for event, element in etree.iterparse(data_file, events=('end', 'start'), encoding='utf-8'):\n",
    "    if element.tag == '{http://www.tei-c.org/ns/1.0}s' and event == 'start':\n",
    "        sentences.append(Sentence(element))\n",
    "    \n",
    "sentences = sentences[:int(len(sentences) / 8) * 3]\n",
    "    \n",
    "sentences = list(filter(lambda x: len(x.words) > 0, sentences))"
   ]
  },
  {
   "cell_type": "markdown",
   "metadata": {},
   "source": [
    "#### Helper functions for generating features from words and their relationships within sentences"
   ]
  },
  {
   "cell_type": "code",
   "execution_count": 6,
   "metadata": {},
   "outputs": [],
   "source": [
    "def features_from_sentence(sentence):\n",
    "    return [features_from_word(sentence, i) for i in range(len(sentence.words))]\n",
    "\n",
    "def labels_from_sentence(sentence):\n",
    "    return [label_from_word(sentence, i) for i in range(len(sentence.words))]\n",
    "\n",
    "def features_from_word(sentence, i):\n",
    "    word = sentence.words[i]\n",
    "    text = word.properties['text']\n",
    "    if text != None:\n",
    "        features = [\n",
    "            'word_to_lowercase=' + text.lower(),\n",
    "            'last_3_chars=' + text[-3:],\n",
    "            'last_2_chars=' + text[-2:],\n",
    "            'word_all_uppercase=%s' % (text.isupper()),\n",
    "            'word_is_title_case=%s' % (text.istitle()),\n",
    "            'word_all_digits=%s' % (text.isdigit())\n",
    "        ]\n",
    "    else:\n",
    "        features = []\n",
    "    if 'ana' in word.properties:\n",
    "        features.extend([\n",
    "            'word_ana=%s' % (word.properties['ana'])\n",
    "        ])\n",
    "    \n",
    "    if i > 0:\n",
    "        prev_word = sentence.words[i-1]\n",
    "        text = prev_word.properties['text']\n",
    "        if text != None:\n",
    "            features.extend([\n",
    "                'prev_word_to_lowercase=' + text.lower(),\n",
    "                'prev_word_is_title_case=%s' % (text.istitle()),\n",
    "                'prev_word_all_uppercase=%s' % (text.isupper())\n",
    "            ])\n",
    "        if 'ana' in prev_word.properties:\n",
    "            features.extend([\n",
    "                'word_ana=%s' % (prev_word.properties['ana'])\n",
    "            ])\n",
    "    else:\n",
    "        features.append('Start')\n",
    "    \n",
    "    if i < len(sentence.words) - 1:\n",
    "        next_word = sentence.words[i + 1]\n",
    "        text = next_word.properties['text']\n",
    "        if text != None:\n",
    "            features.extend([\n",
    "                'next_word_to_lowercase=' + text.lower(),\n",
    "                'next_word_is_title_case=%s' % (text.istitle()),\n",
    "                'next_word_all_uppercase=%s' % (text.isupper())\n",
    "            ])\n",
    "        if 'ana' in next_word.properties:\n",
    "            features.extend([\n",
    "                'word_ana=%s' % (next_word.properties['ana'])\n",
    "            ])\n",
    "    else:\n",
    "        features.append('End')\n",
    "        \n",
    "    return features\n",
    "\n",
    "def label_from_word(sentence, i):\n",
    "    word = sentence.words[i]\n",
    "    return word.properties['named_entity']"
   ]
  },
  {
   "cell_type": "code",
   "execution_count": null,
   "metadata": {},
   "outputs": [],
   "source": [
    "msd_features = len(list(filter(lambda sen: len(list(filter(lambda word: 'msd' in word.properties, sen.words))) > 0, sentences)))\n",
    "ana_features = len(list(filter(lambda sen: len(list(filter(lambda word: 'ana' in word.properties, sen.words))) > 0, sentences)))\n",
    "ne_features = len(list(filter(lambda sen: len(list(filter(lambda word: word.properties['named_entity'] != 'none', sen.words))) > 0, sentences)))\n",
    "\n",
    "(len(sentences), msd_features, ana_features, ne_features)"
   ]
  },
  {
   "cell_type": "code",
   "execution_count": 7,
   "metadata": {},
   "outputs": [],
   "source": [
    "split_index = int(len(sentences) * data_split)\n",
    "X_train = [features_from_sentence(s) for s in sentences[:split_index]]\n",
    "Y_train = [labels_from_sentence(s) for s in sentences[:split_index]]\n",
    "\n",
    "X_test = [features_from_sentence(s) for s in sentences[split_index:]]\n",
    "Y_test = [labels_from_sentence(s) for s in sentences[split_index:]]"
   ]
  },
  {
   "cell_type": "code",
   "execution_count": 9,
   "metadata": {},
   "outputs": [],
   "source": [
    "sentences = []"
   ]
  },
  {
   "cell_type": "code",
   "execution_count": 10,
   "metadata": {},
   "outputs": [],
   "source": [
    "trainer = pycrfsuite.Trainer(verbose=False)\n",
    "\n",
    "for x, y in zip(X_train, Y_train):\n",
    "    trainer.append(x, y)"
   ]
  },
  {
   "cell_type": "code",
   "execution_count": 11,
   "metadata": {},
   "outputs": [],
   "source": [
    "trainer.set_params({\n",
    "    'c1': 1.0,\n",
    "    'c2': 1e-3,\n",
    "    'max_iterations': 50,\n",
    "    'feature.possible_transitions': True\n",
    "})"
   ]
  },
  {
   "cell_type": "code",
   "execution_count": 12,
   "metadata": {},
   "outputs": [
    {
     "data": {
      "text/plain": [
       "['feature.minfreq',\n",
       " 'feature.possible_states',\n",
       " 'feature.possible_transitions',\n",
       " 'c1',\n",
       " 'c2',\n",
       " 'max_iterations',\n",
       " 'num_memories',\n",
       " 'epsilon',\n",
       " 'period',\n",
       " 'delta',\n",
       " 'linesearch',\n",
       " 'max_linesearch']"
      ]
     },
     "execution_count": 12,
     "metadata": {},
     "output_type": "execute_result"
    }
   ],
   "source": [
    "trainer.params()"
   ]
  },
  {
   "cell_type": "code",
   "execution_count": 13,
   "metadata": {},
   "outputs": [],
   "source": [
    "trainer.train('models/crf_model.crfsuite')"
   ]
  },
  {
   "cell_type": "code",
   "execution_count": 14,
   "metadata": {},
   "outputs": [
    {
     "data": {
      "text/plain": [
       "{'num': 50,\n",
       " 'scores': {},\n",
       " 'loss': 6717.305201,\n",
       " 'feature_norm': 52.27461,\n",
       " 'error_norm': 713.910368,\n",
       " 'active_features': 4439,\n",
       " 'linesearch_trials': 1,\n",
       " 'linesearch_step': 1.0,\n",
       " 'time': 0.096}"
      ]
     },
     "execution_count": 14,
     "metadata": {},
     "output_type": "execute_result"
    }
   ],
   "source": [
    "trainer.logparser.iterations[-1]"
   ]
  },
  {
   "cell_type": "code",
   "execution_count": 15,
   "metadata": {},
   "outputs": [
    {
     "data": {
      "text/plain": [
       "<contextlib.closing at 0x3f38cf40>"
      ]
     },
     "execution_count": 15,
     "metadata": {},
     "output_type": "execute_result"
    }
   ],
   "source": [
    "tagger = pycrfsuite.Tagger()\n",
    "tagger.open('models/crf_model.crfsuite')"
   ]
  },
  {
   "cell_type": "code",
   "execution_count": 16,
   "metadata": {},
   "outputs": [],
   "source": [
    "predictions = []\n",
    "\n",
    "for ex in X_test:\n",
    "    predictions.append(tagger.tag(ex))"
   ]
  },
  {
   "cell_type": "code",
   "execution_count": null,
   "metadata": {},
   "outputs": [],
   "source": []
  },
  {
   "cell_type": "code",
   "execution_count": null,
   "metadata": {},
   "outputs": [],
   "source": []
  },
  {
   "cell_type": "code",
   "execution_count": 18,
   "metadata": {},
   "outputs": [],
   "source": [
    "with open('data/predictions.csv', 'w', newline='') as f:\n",
    "    writer = csv.writer(f)\n",
    "    writer.writerows(predictions)"
   ]
  },
  {
   "cell_type": "code",
   "execution_count": 19,
   "metadata": {},
   "outputs": [],
   "source": [
    "with open('data/true_values.csv', 'w', newline='') as f:\n",
    "    writer = csv.writer(f)\n",
    "    writer.writerows(Y_test)"
   ]
  },
  {
   "cell_type": "code",
   "execution_count": null,
   "metadata": {},
   "outputs": [],
   "source": []
  }
 ],
 "metadata": {
  "kernelspec": {
   "display_name": "nlp_env",
   "language": "python",
   "name": "nlp_env"
  },
  "language_info": {
   "codemirror_mode": {
    "name": "ipython",
    "version": 3
   },
   "file_extension": ".py",
   "mimetype": "text/x-python",
   "name": "python",
   "nbconvert_exporter": "python",
   "pygments_lexer": "ipython3",
   "version": "3.8.0"
  }
 },
 "nbformat": 4,
 "nbformat_minor": 4
}
